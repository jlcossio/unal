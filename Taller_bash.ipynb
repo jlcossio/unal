{
  "nbformat": 4,
  "nbformat_minor": 0,
  "metadata": {
    "colab": {
      "name": "Untitled2.ipynb",
      "provenance": [],
      "include_colab_link": true
    },
    "kernelspec": {
      "name": "python3",
      "display_name": "Python 3"
    }
  },
  "cells": [
    {
      "cell_type": "markdown",
      "metadata": {
        "id": "view-in-github",
        "colab_type": "text"
      },
      "source": [
        "<a href=\"https://colab.research.google.com/github/jlcossio/unal/blob/master/Taller_bash.ipynb\" target=\"_parent\"><img src=\"https://colab.research.google.com/assets/colab-badge.svg\" alt=\"Open In Colab\"/></a>"
      ]
    },
    {
      "cell_type": "code",
      "metadata": {
        "id": "a2CrM5-ADT_y",
        "colab_type": "code",
        "colab": {}
      },
      "source": [
        "#Sesión 1\n",
        "#Taller: Gestión de archivos y directorios en Bash\n",
        "\n",
        "#Bash es el lenguaje que permite navegar por Unix, y es el primer lenguaje al que nos enfrentamos al usar BigData\n",
        "#El ! es necesario para indicar al ambiente que es lenguaje Unix"
      ],
      "execution_count": 0,
      "outputs": []
    },
    {
      "cell_type": "code",
      "metadata": {
        "id": "zH8u52KQDY_z",
        "colab_type": "code",
        "colab": {
          "base_uri": "https://localhost:8080/",
          "height": 34
        },
        "outputId": "5dc22fe0-f6ca-44c3-9742-a514f3c8956c"
      },
      "source": [
        "!mkdir practica-bash-1 #crea directorio\n",
        "!mkdir practica-bash-1/1 && mkdir practica-bash-1/2 && mkdir practica-bash-1/3 #Crea 3 directorios dentro de practica-bash-1\n",
        "!mkdir practica-bash-1/1/1-1 && mkdir practica-bash-1/1/1-2 && mkdir practica-bash-1/1/1-3 #Crea directorios en los directorios...\n",
        "!mkdir practica-bash-1/2/2-1 && mkdir practica-bash-1/2/2-2 && mkdir practica-bash-1/2/2-3 #Crea directorios en los directorios...\n",
        "!mkdir practica-bash-1/3/3-1 && mkdir practica-bash-1/3/3-2 && mkdir practica-bash-1/3/3-3 #Crea directorios en los directorios...\n",
        "!cd ./practica-bash-1/ #Me paro en practica-bash-1\n"
      ],
      "execution_count": 4,
      "outputs": [
        {
          "output_type": "stream",
          "text": [
            "/bin/bash: tree: command not found\n"
          ],
          "name": "stdout"
        }
      ]
    },
    {
      "cell_type": "code",
      "metadata": {
        "id": "7m37T-isJEKi",
        "colab_type": "code",
        "colab": {
          "base_uri": "https://localhost:8080/",
          "height": 51
        },
        "outputId": "990ef4b5-fbb3-4ea2-f32f-aeeffd25ca79"
      },
      "source": [
        "#cd no funciona pues solo se cmabia en la celda, no en todo el ambiente\n",
        "\n",
        "!ln -s ./practica-bash-1 ~/pathABC #Da un alias de acceso rápido a la ruta\n",
        "!cd ~/pathABC #Cambia al directorio objetivo"
      ],
      "execution_count": 15,
      "outputs": [
        {
          "output_type": "stream",
          "text": [
            "ln: failed to create symbolic link '/root/pathABC': File exists\n",
            "/bin/bash: line 0: cd: /root/pathABC: No such file or directory\n"
          ],
          "name": "stdout"
        }
      ]
    },
    {
      "cell_type": "code",
      "metadata": {
        "id": "14KhmZpmISNd",
        "colab_type": "code",
        "colab": {
          "base_uri": "https://localhost:8080/",
          "height": 680
        },
        "outputId": "d8d167d4-fa63-46c5-b5d7-02521a1d3490"
      },
      "source": [
        "!apt-get install tree #Instala una librería para ver el contenido de las carpetas\n",
        "!tree #Muestra la estructura de subdirectorios en practica-bash-1"
      ],
      "execution_count": 6,
      "outputs": [
        {
          "output_type": "stream",
          "text": [
            "Reading package lists... Done\n",
            "Building dependency tree       \n",
            "Reading state information... Done\n",
            "The following NEW packages will be installed:\n",
            "  tree\n",
            "0 upgraded, 1 newly installed, 0 to remove and 8 not upgraded.\n",
            "Need to get 40.7 kB of archives.\n",
            "After this operation, 105 kB of additional disk space will be used.\n",
            "Get:1 http://archive.ubuntu.com/ubuntu bionic/universe amd64 tree amd64 1.7.0-5 [40.7 kB]\n",
            "Fetched 40.7 kB in 0s (96.3 kB/s)\n",
            "Selecting previously unselected package tree.\n",
            "(Reading database ... 131183 files and directories currently installed.)\n",
            "Preparing to unpack .../tree_1.7.0-5_amd64.deb ...\n",
            "Unpacking tree (1.7.0-5) ...\n",
            "Setting up tree (1.7.0-5) ...\n",
            "Processing triggers for man-db (2.8.3-2ubuntu0.1) ...\n",
            ".\n",
            "├── practica-bash-1\n",
            "│   ├── 1\n",
            "│   │   ├── 1-1\n",
            "│   │   ├── 1-2\n",
            "│   │   └── 1-3\n",
            "│   ├── 2\n",
            "│   │   ├── 2-1\n",
            "│   │   ├── 2-2\n",
            "│   │   └── 2-3\n",
            "│   └── 3\n",
            "│       ├── 3-1\n",
            "│       ├── 3-2\n",
            "│       └── 3-3\n",
            "└── sample_data\n",
            "    ├── anscombe.json\n",
            "    ├── california_housing_test.csv\n",
            "    ├── california_housing_train.csv\n",
            "    ├── mnist_test.csv\n",
            "    ├── mnist_train_small.csv\n",
            "    └── README.md\n",
            "\n",
            "14 directories, 6 files\n"
          ],
          "name": "stdout"
        }
      ]
    },
    {
      "cell_type": "code",
      "metadata": {
        "id": "nwKJltoZHKzd",
        "colab_type": "code",
        "colab": {
          "base_uri": "https://localhost:8080/",
          "height": 476
        },
        "outputId": "3bb7906b-2e40-4570-c844-27ae55af4bba"
      },
      "source": [
        "!touch practica-bash-1/1/1-1/_SUCCESS.txt && touch practica-bash-1/1/1-1/part-0.txt #Creo dos archivos en la ruta especificada\n",
        "!cp practica-bash-1/1/1-1/part-0.txt practica-bash-1/1/1-1/part-1.txt #Copia archivo part-0.txt y la copia la llama part-1.txt\n",
        "!cp practica-bash-1/1/1-1/part-0.txt practica-bash-1/1/1-1/part-2.txt #Otra copia pero con otro nombre\n",
        "!tree #Muestra la estructura de subdirectorios en practica-bash-1\n"
      ],
      "execution_count": 17,
      "outputs": [
        {
          "output_type": "stream",
          "text": [
            ".\n",
            "├── practica-bash-1\n",
            "│   ├── 1\n",
            "│   │   ├── 1-1\n",
            "│   │   │   ├── part-0.txt\n",
            "│   │   │   ├── part-1.txt\n",
            "│   │   │   ├── part-2.txt\n",
            "│   │   │   └── _SUCCESS.txt\n",
            "│   │   ├── 1-2\n",
            "│   │   └── 1-3\n",
            "│   ├── 2\n",
            "│   │   ├── 2-1\n",
            "│   │   ├── 2-2\n",
            "│   │   └── 2-3\n",
            "│   └── 3\n",
            "│       ├── 3-1\n",
            "│       ├── 3-2\n",
            "│       └── 3-3\n",
            "└── sample_data\n",
            "    ├── anscombe.json\n",
            "    ├── california_housing_test.csv\n",
            "    ├── california_housing_train.csv\n",
            "    ├── mnist_test.csv\n",
            "    ├── mnist_train_small.csv\n",
            "    └── README.md\n",
            "\n",
            "14 directories, 10 files\n"
          ],
          "name": "stdout"
        }
      ]
    },
    {
      "cell_type": "code",
      "metadata": {
        "id": "cXFJm7u7HM3e",
        "colab_type": "code",
        "colab": {
          "base_uri": "https://localhost:8080/",
          "height": 493
        },
        "outputId": "9c117d51-1dc2-402f-a51c-8fbe325b70a9"
      },
      "source": [
        "!mv practica-bash-1/1/1-1/part-0.txt practica-bash-1/1/1-1/part-00000.txt #Renombra el archivo part-0.txt a part-00000.txt\n",
        "!mv practica-bash-1/1/1-1/part-1.txt practica-bash-1/1/1-1/part-00001.txt #Renombra el archivo part-1.txt a part-00001.txt\n",
        "!mv practica-bash-1/1/1-1/part-2.txt practica-bash-1/1/1-1/part-00002.txt #Renombra el archivo part-2.txt a part-00002.txt\n",
        "!tree #Muestra la estructura de subdirectorios en practica-bash-1\n"
      ],
      "execution_count": 18,
      "outputs": [
        {
          "output_type": "stream",
          "text": [
            ".\n",
            "├── practica-bash-1\n",
            "│   ├── 1\n",
            "│   │   ├── 1-1\n",
            "│   │   │   ├── part-00000.txt\n",
            "│   │   │   ├── part-00001.txt\n",
            "│   │   │   ├── part-00002.txt\n",
            "│   │   │   └── _SUCCESS.txt\n",
            "│   │   ├── 1-2\n",
            "│   │   └── 1-3\n",
            "│   ├── 2\n",
            "│   │   ├── 2-1\n",
            "│   │   ├── 2-2\n",
            "│   │   └── 2-3\n",
            "│   └── 3\n",
            "│       ├── 3-1\n",
            "│       ├── 3-2\n",
            "│       └── 3-3\n",
            "└── sample_data\n",
            "    ├── anscombe.json\n",
            "    ├── california_housing_test.csv\n",
            "    ├── california_housing_train.csv\n",
            "    ├── mnist_test.csv\n",
            "    ├── mnist_train_small.csv\n",
            "    └── README.md\n",
            "\n",
            "14 directories, 10 files\n",
            "mv: target 'practica-bash-1/3/3-3/*' is not a directory\n"
          ],
          "name": "stdout"
        }
      ]
    },
    {
      "cell_type": "code",
      "metadata": {
        "id": "uri8OzdiMhws",
        "colab_type": "code",
        "colab": {}
      },
      "source": [
        "!cp practica-bash-1/1/1-1/* practica-bash-1/3/3-3/ #Mueve el contenido de la carpeta 1-1 a la carpeta 3-3"
      ],
      "execution_count": 0,
      "outputs": []
    },
    {
      "cell_type": "code",
      "metadata": {
        "id": "DeRNt8QnMshH",
        "colab_type": "code",
        "colab": {
          "base_uri": "https://localhost:8080/",
          "height": 544
        },
        "outputId": "1ad73f59-f496-43ad-fe3e-0f04e2f9c3e0"
      },
      "source": [
        "!tree"
      ],
      "execution_count": 21,
      "outputs": [
        {
          "output_type": "stream",
          "text": [
            ".\n",
            "├── practica-bash-1\n",
            "│   ├── 1\n",
            "│   │   ├── 1-1\n",
            "│   │   │   ├── part-00000.txt\n",
            "│   │   │   ├── part-00001.txt\n",
            "│   │   │   ├── part-00002.txt\n",
            "│   │   │   └── _SUCCESS.txt\n",
            "│   │   ├── 1-2\n",
            "│   │   └── 1-3\n",
            "│   ├── 2\n",
            "│   │   ├── 2-1\n",
            "│   │   ├── 2-2\n",
            "│   │   └── 2-3\n",
            "│   └── 3\n",
            "│       ├── 3-1\n",
            "│       ├── 3-2\n",
            "│       └── 3-3\n",
            "│           ├── part-00000.txt\n",
            "│           ├── part-00001.txt\n",
            "│           ├── part-00002.txt\n",
            "│           └── _SUCCESS.txt\n",
            "└── sample_data\n",
            "    ├── anscombe.json\n",
            "    ├── california_housing_test.csv\n",
            "    ├── california_housing_train.csv\n",
            "    ├── mnist_test.csv\n",
            "    ├── mnist_train_small.csv\n",
            "    └── README.md\n",
            "\n",
            "14 directories, 14 files\n"
          ],
          "name": "stdout"
        }
      ]
    }
  ]
}