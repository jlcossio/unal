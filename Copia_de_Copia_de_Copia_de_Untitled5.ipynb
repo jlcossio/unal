{
  "nbformat": 4,
  "nbformat_minor": 0,
  "metadata": {
    "colab": {
      "name": "Copia de Copia de Copia de Untitled5.ipynb",
      "provenance": [],
      "include_colab_link": true
    },
    "kernelspec": {
      "name": "python3",
      "display_name": "Python 3"
    }
  },
  "cells": [
    {
      "cell_type": "markdown",
      "metadata": {
        "id": "view-in-github",
        "colab_type": "text"
      },
      "source": [
        "<a href=\"https://colab.research.google.com/github/jlcossio/unal/blob/master/Copia_de_Copia_de_Copia_de_Untitled5.ipynb\" target=\"_parent\"><img src=\"https://colab.research.google.com/assets/colab-badge.svg\" alt=\"Open In Colab\"/></a>"
      ]
    },
    {
      "cell_type": "code",
      "metadata": {
        "id": "v9b9j7gwcROf",
        "colab_type": "code",
        "outputId": "ef0de981-8c8b-45a1-e873-e78c45fff3f2",
        "colab": {
          "base_uri": "https://localhost:8080/",
          "height": 170
        }
      },
      "source": [
        "%%bash\n",
        "seq 5.5 0.7 20 > out.1\n",
        "sed -n \"3,6p; 11,15p\" out.1"
      ],
      "execution_count": 0,
      "outputs": [
        {
          "output_type": "stream",
          "text": [
            "6.9\n",
            "7.6\n",
            "8.3\n",
            "9.0\n",
            "12.5\n",
            "13.2\n",
            "13.9\n",
            "14.6\n",
            "15.3\n"
          ],
          "name": "stdout"
        }
      ]
    },
    {
      "cell_type": "code",
      "metadata": {
        "id": "nLFwSs2DdO7N",
        "colab_type": "code",
        "outputId": "0cb8640d-7bb4-4db5-9467-071da89544a0",
        "colab": {
          "base_uri": "https://localhost:8080/",
          "height": 119
        }
      },
      "source": [
        "%%bash\n",
        "cat > out.1 <<EOF\n",
        "FieldA, FieldD, FieldE, FieldG\n",
        "   2, X, 2X, 2XG\n",
        "   2, Y, 2Y, 2YG\n",
        "   3, Y, 3Y, 3YG\n",
        "   3, X, 3X, 3XG\n",
        "   4, Z, 4Z, 3XG\n",
        "EOF\n",
        "\n",
        "sed \"s/X/cambio/g\" out.1"
      ],
      "execution_count": 0,
      "outputs": [
        {
          "output_type": "stream",
          "text": [
            "FieldA, FieldD, FieldE, FieldG\n",
            "   2, cambio, 2cambio, 2cambioG\n",
            "   2, Y, 2Y, 2YG\n",
            "   3, Y, 3Y, 3YG\n",
            "   3, cambio, 3cambio, 3cambioG\n",
            "   4, Z, 4Z, 3cambioG\n"
          ],
          "name": "stdout"
        }
      ]
    },
    {
      "cell_type": "code",
      "metadata": {
        "id": "_-nU-OmRfTrj",
        "colab_type": "code",
        "outputId": "cde0760b-7c1f-4487-f04b-0fdab69a268b",
        "colab": {
          "base_uri": "https://localhost:8080/",
          "height": 68
        }
      },
      "source": [
        "%%bash\n",
        "cat > out.1 <<EOF\n",
        "1980-JAN-1+1:0:1.134\n",
        "1980-JAN-5+1:0:1.12\n",
        "1982-JAN-13+10:12:42.33\n",
        "EOF\n",
        "\n",
        "sed \"s/-\\([0-9]\\)+/-0\\1+/g\" out.1 > out.2\n",
        "sed \"s/+/ /g\" out.2 > out.3\n",
        "sed \"s/ \\([0-9]\\):/ 0\\1:/g\" out.3 > out.4\n",
        "sed \"s/:\\([0-9]\\):/:0\\1:/g\" out.4 > out.5\n",
        "sed \"s/:\\([0-9]\\)\\./:0\\1\\./\" out.5 > out.6\n",
        "sed \"s/\\.[0-9]*//\" out.6"
      ],
      "execution_count": 0,
      "outputs": [
        {
          "output_type": "stream",
          "text": [
            "1980-JAN-01 01:00:01\n",
            "1980-JAN-05 01:00:01\n",
            "1982-JAN-13 10:12:42\n"
          ],
          "name": "stdout"
        }
      ]
    },
    {
      "cell_type": "code",
      "metadata": {
        "id": "cYVBczONs644",
        "colab_type": "code",
        "outputId": "4134956f-107b-418d-bbc3-b649e18e21e2",
        "colab": {
          "base_uri": "https://localhost:8080/",
          "height": 235
        }
      },
      "source": [
        "%%bash\n",
        "head -n 1 data.csv\n",
        "sed \"s/\\//-/\" data.csv > out.1\n",
        "sed \"s/\\/\\([0-9][0-9]\\);/-20\\1;/\" out.1 > out.2\n",
        "sed \"s/\\([0-9][0-9]\\)-\\([0-9][0-9]\\)-\\([2][0][1][0-9]\\);/\\3-\\2-\\1;/\" out.2 > out.3\n",
        "sed -e \"s/\\(.*\\)/\\U\\1/\" out.3 > out.4\n",
        "sed \"s/\\([0-9]\\),\\([0-9]\\)/\\1\\.\\2/\" out.4 > out.5\n",
        "sed \"s/;;/;\\N;/g\" out.5 > out.6\n",
        "sed \"s=;[N]=;\\\\\\N=g\" out.6 > out.7\n",
        "sed \"s=\\\\N;=\\\\N;\\\\N=g\" out.7 > out.8\n",
        "#sed \"s/;/,/g\" out.7 > out.8\n",
        "\n",
        "\n",
        "\n",
        "cat out.8"
      ],
      "execution_count": 127,
      "outputs": [
        {
          "output_type": "stream",
          "text": [
            "12/03/13;A;1;100,0\n",
            "2013-03-12;A;1;100.0\n",
            "2013-12-05;A;1;100.0\n",
            "2013-02-25;B;2;200.0\n",
            "2013-04-04;\\N;N1;\\N\n",
            "2013-06-21;\\N;N\\N;N\n",
            "2014-06-13;A;\\N;N\\N\n",
            "2014-05-12;C;\\N;N\n",
            "2014-09-05;\\N;N3;150.1\n",
            "2014-05-12;A;2;\\N\n",
            "2013-02-28;C;\\N;N\\N\n",
            "2014-08-02;A;2;100.0\n",
            "1-9/2014;A;3;100.4\n"
          ],
          "name": "stdout"
        }
      ]
    }
  ]
}