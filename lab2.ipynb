{
  "nbformat": 4,
  "nbformat_minor": 0,
  "metadata": {
    "colab": {
      "name": "Untitled6.ipynb",
      "provenance": [],
      "include_colab_link": true
    },
    "kernelspec": {
      "name": "python3",
      "display_name": "Python 3"
    }
  },
  "cells": [
    {
      "cell_type": "markdown",
      "metadata": {
        "id": "view-in-github",
        "colab_type": "text"
      },
      "source": [
        "<a href=\"https://colab.research.google.com/github/jlcossio/unal/blob/master/lab2.ipynb\" target=\"_parent\"><img src=\"https://colab.research.google.com/assets/colab-badge.svg\" alt=\"Open In Colab\"/></a>"
      ]
    },
    {
      "cell_type": "code",
      "metadata": {
        "id": "WWy9vMfA434v",
        "colab_type": "code",
        "colab": {
          "base_uri": "https://localhost:8080/",
          "height": 67
        },
        "outputId": "62932158-d157-4383-e943-ed739277460f"
      },
      "source": [
        "%%bash\n",
        "touch script.sh\n",
        "cd /content\n",
        "\n",
        "for f in /content/*.csv; do\n",
        "   echo \"$f\"\n",
        "done > file_names\n",
        "\n",
        "sed \"s=/content/==g\" file_names > file_name\n",
        "cat file_name\n",
        "\n"
      ],
      "execution_count": 54,
      "outputs": [
        {
          "output_type": "stream",
          "text": [
            "data1.csv\n",
            "data2.csv\n",
            "data3.csv\n"
          ],
          "name": "stdout"
        }
      ]
    }
  ]
}